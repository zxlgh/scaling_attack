{
 "cells": [
  {
   "cell_type": "code",
   "execution_count": 2,
   "outputs": [
    {
     "name": "stdout",
     "output_type": "stream",
     "text": [
      "camouflage-data.zip  pub-60.zip  scaling.ipynb\ttiny-imagenet.zip\r\n"
     ]
    }
   ],
   "source": [
    "!ls"
   ],
   "metadata": {
    "collapsed": false
   }
  },
  {
   "cell_type": "code",
   "execution_count": 1,
   "outputs": [
    {
     "name": "stdout",
     "output_type": "stream",
     "text": [
      "Hit:1 http://mirrors.aliyun.com/ubuntu bionic InRelease\r\n",
      "Get:2 http://mirrors.aliyun.com/ubuntu bionic-security InRelease [88.7 kB]     \r\n",
      "Get:5 http://mirrors.aliyun.com/ubuntu bionic-updates InRelease [88.7 kB]      \r\n",
      "Get:6 http://mirrors.aliyun.com/ubuntu bionic-proposed InRelease [242 kB]      \r\n",
      "Get:3 https://developer.download.nvidia.cn/compute/cuda/repos/ubuntu1804/x86_64  InRelease [1581 B]\r\n",
      "Ign:4 https://developer.download.nvidia.cn/compute/machine-learning/repos/ubuntu1804/x86_64  InRelease\r\n",
      "Err:3 https://developer.download.nvidia.cn/compute/cuda/repos/ubuntu1804/x86_64  InRelease\r\n",
      "  The following signatures couldn't be verified because the public key is not available: NO_PUBKEY A4B469963BF863CC\r\n",
      "Hit:7 https://developer.download.nvidia.cn/compute/machine-learning/repos/ubuntu1804/x86_64  Release\r\n",
      "Get:8 http://mirrors.aliyun.com/ubuntu bionic-backports InRelease [83.3 kB]\r\n",
      "Get:10 http://mirrors.aliyun.com/ubuntu bionic-security/main amd64 Packages [3190 kB]\r\n",
      "Get:11 http://mirrors.aliyun.com/ubuntu bionic-security/restricted amd64 Packages [1426 kB]\r\n",
      "Get:12 http://mirrors.aliyun.com/ubuntu bionic-security/multiverse amd64 Packages [23.8 kB]\r\n",
      "Get:13 http://mirrors.aliyun.com/ubuntu bionic-security/universe amd64 Packages [1595 kB]\r\n",
      "Get:14 http://mirrors.aliyun.com/ubuntu bionic-updates/main amd64 Packages [3610 kB]\r\n",
      "Get:15 http://mirrors.aliyun.com/ubuntu bionic-updates/universe amd64 Packages [2369 kB]\r\n",
      "Get:16 http://mirrors.aliyun.com/ubuntu bionic-updates/restricted amd64 Packages [1466 kB]\r\n",
      "Get:17 http://mirrors.aliyun.com/ubuntu bionic-proposed/restricted amd64 Packages [239 kB]\r\n",
      "Get:18 http://mirrors.aliyun.com/ubuntu bionic-proposed/universe amd64 Packages [20.3 kB]\r\n",
      "Get:19 http://mirrors.aliyun.com/ubuntu bionic-proposed/main amd64 Packages [208 kB]\r\n",
      "Get:20 http://mirrors.aliyun.com/ubuntu bionic-proposed/multiverse amd64 Packages [2356 B]\r\n",
      "Reading package lists... Done                                                  \r\n",
      "W: GPG error: https://developer.download.nvidia.cn/compute/cuda/repos/ubuntu1804/x86_64  InRelease: The following signatures couldn't be verified because the public key is not available: NO_PUBKEY A4B469963BF863CC\r\n",
      "E: The repository 'https://developer.download.nvidia.com/compute/cuda/repos/ubuntu1804/x86_64  InRelease' is not signed.\r\n",
      "N: Updating from such a repository can't be done securely, and is therefore disabled by default.\r\n",
      "N: See apt-secure(8) manpage for repository creation and user configuration details.\r\n"
     ]
    }
   ],
   "source": [
    "!apt-get update"
   ],
   "metadata": {
    "collapsed": false
   }
  },
  {
   "cell_type": "code",
   "execution_count": 3,
   "outputs": [
    {
     "name": "stdout",
     "output_type": "stream",
     "text": [
      "--2023-02-18 10:06:02--  http://ai.stanford.edu/~acoates/stl10/stl10_matlab.tar.gz\r\n",
      "Resolving ai.stanford.edu (ai.stanford.edu)... 171.64.68.10\r\n",
      "Connecting to ai.stanford.edu (ai.stanford.edu)|171.64.68.10|:80... failed: Connection timed out.\r\n",
      "Retrying.\r\n",
      "\r\n",
      "--2023-02-18 10:08:13--  (try: 2)  http://ai.stanford.edu/~acoates/stl10/stl10_matlab.tar.gz\r\n",
      "Connecting to ai.stanford.edu (ai.stanford.edu)|171.64.68.10|:80... failed: Connection timed out.\r\n",
      "Retrying.\r\n",
      "\r\n",
      "--2023-02-18 10:10:22--  (try: 3)  http://ai.stanford.edu/~acoates/stl10/stl10_matlab.tar.gz\r\n",
      "Connecting to ai.stanford.edu (ai.stanford.edu)|171.64.68.10|:80... failed: Connection timed out.\r\n",
      "Retrying.\r\n",
      "\r\n",
      "--2023-02-18 10:12:32--  (try: 4)  http://ai.stanford.edu/~acoates/stl10/stl10_matlab.tar.gz\r\n",
      "Connecting to ai.stanford.edu (ai.stanford.edu)|171.64.68.10|:80... failed: Connection timed out.\r\n",
      "Retrying.\r\n",
      "\r\n",
      "--2023-02-18 10:14:44--  (try: 5)  http://ai.stanford.edu/~acoates/stl10/stl10_matlab.tar.gz\r\n",
      "Connecting to ai.stanford.edu (ai.stanford.edu)|171.64.68.10|:80... failed: Connection timed out.\r\n",
      "Retrying.\r\n",
      "\r\n",
      "--2023-02-18 10:16:56--  (try: 6)  http://ai.stanford.edu/~acoates/stl10/stl10_matlab.tar.gz\r\n",
      "Connecting to ai.stanford.edu (ai.stanford.edu)|171.64.68.10|:80... failed: Connection timed out.\r\n",
      "Retrying.\r\n",
      "\r\n",
      "--2023-02-18 10:19:09--  (try: 7)  http://ai.stanford.edu/~acoates/stl10/stl10_matlab.tar.gz\r\n",
      "Connecting to ai.stanford.edu (ai.stanford.edu)|171.64.68.10|:80... failed: Connection timed out.\r\n",
      "Retrying.\r\n",
      "\r\n",
      "--2023-02-18 10:21:23--  (try: 8)  http://ai.stanford.edu/~acoates/stl10/stl10_matlab.tar.gz\r\n",
      "Connecting to ai.stanford.edu (ai.stanford.edu)|171.64.68.10|:80... failed: Connection timed out.\r\n",
      "Retrying.\r\n",
      "\r\n",
      "--2023-02-18 10:23:39--  (try: 9)  http://ai.stanford.edu/~acoates/stl10/stl10_matlab.tar.gz\r\n",
      "Connecting to ai.stanford.edu (ai.stanford.edu)|171.64.68.10|:80... failed: Connection timed out.\r\n",
      "Retrying.\r\n",
      "\r\n",
      "--2023-02-18 10:25:55--  (try:10)  http://ai.stanford.edu/~acoates/stl10/stl10_matlab.tar.gz\r\n",
      "Connecting to ai.stanford.edu (ai.stanford.edu)|171.64.68.10|:80... failed: Connection timed out.\r\n",
      "Retrying.\r\n",
      "\r\n",
      "--2023-02-18 10:28:12--  (try:11)  http://ai.stanford.edu/~acoates/stl10/stl10_matlab.tar.gz\r\n",
      "Connecting to ai.stanford.edu (ai.stanford.edu)|171.64.68.10|:80... failed: Connection timed out.\r\n",
      "Retrying.\r\n",
      "\r\n",
      "--2023-02-18 10:30:29--  (try:12)  http://ai.stanford.edu/~acoates/stl10/stl10_matlab.tar.gz\r\n",
      "Connecting to ai.stanford.edu (ai.stanford.edu)|171.64.68.10|:80... failed: Connection timed out.\r\n",
      "Retrying.\r\n",
      "\r\n",
      "--2023-02-18 10:32:47--  (try:13)  http://ai.stanford.edu/~acoates/stl10/stl10_matlab.tar.gz\r\n",
      "Connecting to ai.stanford.edu (ai.stanford.edu)|171.64.68.10|:80... failed: Connection timed out.\r\n",
      "Retrying.\r\n",
      "\r\n",
      "--2023-02-18 10:35:04--  (try:14)  http://ai.stanford.edu/~acoates/stl10/stl10_matlab.tar.gz\r\n",
      "Connecting to ai.stanford.edu (ai.stanford.edu)|171.64.68.10|:80... failed: Connection timed out.\r\n",
      "Retrying.\r\n",
      "\r\n",
      "--2023-02-18 10:37:21--  (try:15)  http://ai.stanford.edu/~acoates/stl10/stl10_matlab.tar.gz\r\n",
      "Connecting to ai.stanford.edu (ai.stanford.edu)|171.64.68.10|:80... failed: Connection timed out.\r\n",
      "Retrying.\r\n",
      "\r\n",
      "--2023-02-18 10:39:38--  (try:16)  http://ai.stanford.edu/~acoates/stl10/stl10_matlab.tar.gz\r\n",
      "Connecting to ai.stanford.edu (ai.stanford.edu)|171.64.68.10|:80... failed: Connection timed out.\r\n",
      "Retrying.\r\n",
      "\r\n",
      "--2023-02-18 10:41:55--  (try:17)  http://ai.stanford.edu/~acoates/stl10/stl10_matlab.tar.gz\r\n",
      "Connecting to ai.stanford.edu (ai.stanford.edu)|171.64.68.10|:80... failed: Connection timed out.\r\n",
      "Retrying.\r\n",
      "\r\n",
      "--2023-02-18 10:44:13--  (try:18)  http://ai.stanford.edu/~acoates/stl10/stl10_matlab.tar.gz\r\n",
      "Connecting to ai.stanford.edu (ai.stanford.edu)|171.64.68.10|:80... failed: Connection timed out.\r\n",
      "Retrying.\r\n",
      "\r\n",
      "--2023-02-18 10:46:30--  (try:19)  http://ai.stanford.edu/~acoates/stl10/stl10_matlab.tar.gz\r\n",
      "Connecting to ai.stanford.edu (ai.stanford.edu)|171.64.68.10|:80... ^C\r\n"
     ]
    }
   ],
   "source": [
    "!wget http://ai.stanford.edu/~acoates/stl10/stl10_matlab.tar.gz"
   ],
   "metadata": {
    "collapsed": false
   }
  },
  {
   "cell_type": "code",
   "execution_count": 8,
   "outputs": [
    {
     "name": "stdout",
     "output_type": "stream",
     "text": [
      "Reading package lists... Done\r\n",
      "Building dependency tree       \r\n",
      "Reading state information... Done\r\n",
      "The following additional packages will be installed:\r\n",
      "  libcurl4\r\n",
      "The following NEW packages will be installed:\r\n",
      "  curl\r\n",
      "The following packages will be upgraded:\r\n",
      "  libcurl4\r\n",
      "1 upgraded, 1 newly installed, 0 to remove and 135 not upgraded.\r\n",
      "Need to get 379 kB of archives.\r\n",
      "After this operation, 411 kB of additional disk space will be used.\r\n",
      "Get:1 http://mirrors.aliyun.com/ubuntu bionic-security/main amd64 libcurl4 amd64 7.58.0-2ubuntu3.22 [220 kB]\r\n",
      "Get:2 http://mirrors.aliyun.com/ubuntu bionic-security/main amd64 curl amd64 7.58.0-2ubuntu3.22 [159 kB]\r\n",
      "Fetched 379 kB in 0s (1013 kB/s)\r\n",
      "debconf: delaying package configuration, since apt-utils is not installed\r\n",
      "(Reading database ... 22711 files and directories currently installed.)\r\n",
      "Preparing to unpack .../libcurl4_7.58.0-2ubuntu3.22_amd64.deb ...\r\n",
      "Unpacking libcurl4:amd64 (7.58.0-2ubuntu3.22) over (7.58.0-2ubuntu3.10) ...\r\n",
      "Selecting previously unselected package curl.\r\n",
      "Preparing to unpack .../curl_7.58.0-2ubuntu3.22_amd64.deb ...\r\n",
      "Unpacking curl (7.58.0-2ubuntu3.22) ...\r\n",
      "Setting up libcurl4:amd64 (7.58.0-2ubuntu3.22) ...\r\n",
      "Setting up curl (7.58.0-2ubuntu3.22) ...\r\n",
      "Processing triggers for libc-bin (2.27-3ubuntu1.2) ...\r\n",
      "/sbin/ldconfig.real: File /usr/lib/x86_64-linux-gnu/libnvidia-cfg.so.450.80.02 is empty, not checked.\r\n",
      "/sbin/ldconfig.real: File /usr/lib/x86_64-linux-gnu/libnvidia-compiler.so.450.80.02 is empty, not checked.\r\n",
      "/sbin/ldconfig.real: File /usr/lib/x86_64-linux-gnu/libnvidia-ml.so.450.80.02 is empty, not checked.\r\n",
      "/sbin/ldconfig.real: File /usr/lib/x86_64-linux-gnu/libnvidia-opencl.so.450.80.02 is empty, not checked.\r\n"
     ]
    }
   ],
   "source": [
    "!apt-get install curl -y"
   ],
   "metadata": {
    "collapsed": false
   }
  },
  {
   "cell_type": "code",
   "execution_count": 11,
   "outputs": [
    {
     "name": "stdout",
     "output_type": "stream",
     "text": [
      "  % Total    % Received % Xferd  Average Speed   Time    Time     Time  Current\r\n",
      "                                 Dload  Upload   Total   Spent    Left  Speed\r\n",
      "  0     0    0     0    0     0      0      0 --:--:--  0:02:06 --:--:--     0 --:--:--  0:01:22 --:--:--     0   0     0    0     0      0      0 --:--:--  0:01:47 --:--:--     0curl: (7) Failed to connect to ai.stanford.edu port 80: Connection timed out\r\n"
     ]
    }
   ],
   "source": [
    "!curl -o stl.tar.gz http://ai.stanford.edu/~acoates/stl10/stl10_matlab.tar.gz"
   ],
   "metadata": {
    "collapsed": false
   }
  },
  {
   "cell_type": "code",
   "execution_count": 12,
   "outputs": [
    {
     "name": "stdout",
     "output_type": "stream",
     "text": [
      "datasets\r\n"
     ]
    }
   ],
   "source": [
    "!ls"
   ],
   "metadata": {
    "collapsed": false
   }
  },
  {
   "cell_type": "code",
   "execution_count": 13,
   "outputs": [
    {
     "name": "stdout",
     "output_type": "stream",
     "text": [
      "/opt/data/private\r\n"
     ]
    }
   ],
   "source": [
    "!pwd"
   ],
   "metadata": {
    "collapsed": false
   }
  },
  {
   "cell_type": "code",
   "execution_count": 14,
   "outputs": [
    {
     "name": "stdout",
     "output_type": "stream",
     "text": [
      "stl10_matlab/\r\n",
      "stl10_matlab/test.mat\r\n",
      "stl10_matlab/train.mat\r\n",
      "stl10_matlab/unlabeled.mat\r\n"
     ]
    }
   ],
   "source": [
    " !tar -zxvf datasets/stl.tar.gz"
   ],
   "metadata": {
    "collapsed": false
   }
  },
  {
   "cell_type": "code",
   "execution_count": null,
   "outputs": [],
   "source": [
    "import scipy.io as io\n",
    "from PIL import Image\n",
    "import os\n",
    "import numpy as np"
   ],
   "metadata": {
    "collapsed": false
   }
  },
  {
   "cell_type": "code",
   "execution_count": null,
   "outputs": [],
   "source": [
    "data = io.loadmat(r'./stl10_matlab/train.mat')\n",
    "X = data['X']\n",
    "print(X.shape)"
   ],
   "metadata": {
    "collapsed": false
   }
  },
  {
   "cell_type": "code",
   "execution_count": 15,
   "outputs": [],
   "source": [
    "images = X.reshape(5000, 3, 96, 96)\n",
    "images = images.transpose(0, 3, 2, 1)\n",
    "labels = data['y']\n",
    "labels = labels.reshape(5000)\n",
    "\n",
    "for i in range(5000):\n",
    "    img, label = images[i], labels[i]\n",
    "    img = Image.fromarray(img)\n",
    "    path = 'stl10_matlab/train/'+str(label)\n",
    "    if not os.path.exists(path):\n",
    "        os.makedirs(path)\n",
    "    img.save(os.path.join(path, str(i)+'.png'))"
   ],
   "metadata": {
    "collapsed": false
   }
  },
  {
   "cell_type": "code",
   "execution_count": 132,
   "outputs": [
    {
     "name": "stdout",
     "output_type": "stream",
     "text": [
      "(8000, 27648)\n"
     ]
    }
   ],
   "source": [
    "data = io.loadmat(r'./stl10_matlab/test.mat')\n",
    "X = data['X']\n",
    "print(X.shape)"
   ],
   "metadata": {
    "collapsed": false
   }
  },
  {
   "cell_type": "code",
   "execution_count": 133,
   "outputs": [],
   "source": [
    "images = X.reshape(8000, 3, 96, 96)\n",
    "images = images.transpose(0, 3, 2, 1)\n",
    "labels = data['y']\n",
    "labels = labels.reshape(8000)\n",
    "\n",
    "for i in range(8000):\n",
    "    img, label = images[i], labels[i]\n",
    "    img = Image.fromarray(img)\n",
    "    path = 'stl10_matlab/test/'+str(label)\n",
    "    if not os.path.exists(path):\n",
    "        os.makedirs(path)\n",
    "    img.save(os.path.join(path, str(i)+'.png'))"
   ],
   "metadata": {
    "collapsed": false
   }
  },
  {
   "cell_type": "code",
   "execution_count": null,
   "outputs": [],
   "source": [],
   "metadata": {
    "collapsed": false
   }
  }
 ],
 "metadata": {
  "kernelspec": {
   "display_name": "Python 3",
   "language": "python",
   "name": "python3"
  },
  "language_info": {
   "codemirror_mode": {
    "name": "ipython",
    "version": 2
   },
   "file_extension": ".py",
   "mimetype": "text/x-python",
   "name": "python",
   "nbconvert_exporter": "python",
   "pygments_lexer": "ipython2",
   "version": "2.7.6"
  }
 },
 "nbformat": 4,
 "nbformat_minor": 0
}
